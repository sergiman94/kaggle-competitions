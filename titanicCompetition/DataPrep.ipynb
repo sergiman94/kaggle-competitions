{
 "cells": [
  {
   "cell_type": "markdown",
   "metadata": {},
   "source": [
    "## Imports"
   ]
  },
  {
   "cell_type": "code",
   "execution_count": 1,
   "metadata": {},
   "outputs": [
    {
     "name": "stdout",
     "output_type": "stream",
     "text": [
      "imports done\n"
     ]
    }
   ],
   "source": [
    "import pandas as pd\n",
    "import matplotlib.pyplot as plt\n",
    "import numpy as np\n",
    "from sklearn.model_selection import train_test_split\n",
    "import seaborn as sns \n",
    "from sklearn.preprocessing  import OneHotEncoder, LabelEncoder, MinMaxScaler\n",
    "from sklearn.metrics import accuracy_score, confusion_matrix, classification_report\n",
    "\n",
    "# model imports\n",
    "# logistic regression\n",
    "from sklearn.linear_model import LogisticRegression\n",
    "# Random Forest\n",
    "from sklearn.ensemble import RandomForestClassifier\n",
    "# Support Vector Machines\n",
    "from sklearn.svm import SVC\n",
    "# Multinomial Naive Bayes\n",
    "from sklearn.naive_bayes import MultinomialNB\n",
    "# K-Neighbors\n",
    "from sklearn.neighbors import KNeighborsClassifier\n",
    "# Gradient Boost\n",
    "# Ada Boost\n",
    "from sklearn.tree import DecisionTreeClassifier # requirement for ada gradient boost\n",
    "from sklearn.ensemble import AdaBoostClassifier\n",
    "print('imports done')"
   ]
  },
  {
   "cell_type": "markdown",
   "metadata": {},
   "source": [
    "## Load Data"
   ]
  },
  {
   "cell_type": "code",
   "execution_count": 2,
   "metadata": {},
   "outputs": [
    {
     "name": "stdout",
     "output_type": "stream",
     "text": [
      "data loaded\n"
     ]
    }
   ],
   "source": [
    "train_raw_data = pd.read_csv('./train.csv')\n",
    "test_data = pd.read_csv('./test.csv')\n",
    "print('data loaded')"
   ]
  },
  {
   "cell_type": "code",
   "execution_count": 3,
   "metadata": {},
   "outputs": [
    {
     "name": "stdout",
     "output_type": "stream",
     "text": [
      "data splitted\n"
     ]
    }
   ],
   "source": [
    "# split the data\n",
    "train_data, val_data = train_test_split(train_raw_data, test_size=0.3, random_state=42)\n",
    "print('data splitted')"
   ]
  },
  {
   "cell_type": "code",
   "execution_count": 4,
   "metadata": {},
   "outputs": [
    {
     "name": "stdout",
     "output_type": "stream",
     "text": [
      "train_labels shape (623,)\n",
      "val_labels shape (268,)\n"
     ]
    }
   ],
   "source": [
    "# extract the labels\n",
    "train_labels = train_data.pop('Survived')\n",
    "val_labels = val_data.pop('Survived')\n",
    "print('train_labels shape', str(train_labels.shape))\n",
    "print('val_labels shape', str(val_labels.shape))"
   ]
  },
  {
   "cell_type": "code",
   "execution_count": 5,
   "metadata": {},
   "outputs": [
    {
     "name": "stdout",
     "output_type": "stream",
     "text": [
      "passengerId copied and removed\n"
     ]
    }
   ],
   "source": [
    "passengerId = test_data['PassengerId']\n",
    "train_data = train_data.drop(columns=['PassengerId'])\n",
    "val_data = val_data.drop(columns=['PassengerId'])\n",
    "test_data = test_data.drop(columns=['PassengerId'])\n",
    "print('passengerId copied and removed')"
   ]
  },
  {
   "cell_type": "markdown",
   "metadata": {},
   "source": [
    "## Missing Values"
   ]
  },
  {
   "cell_type": "markdown",
   "metadata": {},
   "source": [
    "### Categorical Values"
   ]
  },
  {
   "cell_type": "markdown",
   "metadata": {},
   "source": [
    "Removing Cabin since it has `77.7%` of missing values"
   ]
  },
  {
   "cell_type": "code",
   "execution_count": 6,
   "metadata": {},
   "outputs": [
    {
     "name": "stdout",
     "output_type": "stream",
     "text": [
      "removed features from categorical features\n"
     ]
    }
   ],
   "source": [
    "# Removing unneessary categorical values\n",
    "train_data = train_data.drop(columns=['Cabin', 'Ticket'])\n",
    "val_data = val_data.drop(columns=['Cabin', 'Ticket'])\n",
    "test_data = test_data.drop(columns=['Cabin', 'Ticket'])\n",
    "print('removed features from categorical features')"
   ]
  },
  {
   "cell_type": "markdown",
   "metadata": {},
   "source": [
    "Find the mode in `Emabrked` and imput with it"
   ]
  },
  {
   "cell_type": "code",
   "execution_count": 7,
   "metadata": {},
   "outputs": [
    {
     "name": "stdout",
     "output_type": "stream",
     "text": [
      "Embarked nans in train_data 0\n",
      "Embarked nans in val_data 0\n",
      "Embarked nans in test_data 0\n",
      "<class 'pandas.core.frame.DataFrame'>\n",
      "Index: 623 entries, 445 to 102\n",
      "Data columns (total 3 columns):\n",
      " #   Column    Non-Null Count  Dtype \n",
      "---  ------    --------------  ----- \n",
      " 0   Name      623 non-null    object\n",
      " 1   Sex       623 non-null    object\n",
      " 2   Embarked  623 non-null    object\n",
      "dtypes: object(3)\n",
      "memory usage: 19.5+ KB\n",
      "<class 'pandas.core.frame.DataFrame'>\n",
      "Index: 268 entries, 709 to 430\n",
      "Data columns (total 3 columns):\n",
      " #   Column    Non-Null Count  Dtype \n",
      "---  ------    --------------  ----- \n",
      " 0   Name      268 non-null    object\n",
      " 1   Sex       268 non-null    object\n",
      " 2   Embarked  268 non-null    object\n",
      "dtypes: object(3)\n",
      "memory usage: 8.4+ KB\n",
      "<class 'pandas.core.frame.DataFrame'>\n",
      "RangeIndex: 418 entries, 0 to 417\n",
      "Data columns (total 3 columns):\n",
      " #   Column    Non-Null Count  Dtype \n",
      "---  ------    --------------  ----- \n",
      " 0   Name      418 non-null    object\n",
      " 1   Sex       418 non-null    object\n",
      " 2   Embarked  418 non-null    object\n",
      "dtypes: object(3)\n",
      "memory usage: 9.9+ KB\n"
     ]
    }
   ],
   "source": [
    "# train\n",
    "embarked_mode_train = train_data['Embarked'].mode()\n",
    "embarked_mask_train = train_data['Embarked'].isna()\n",
    "train_data.loc[embarked_mask_train] = train_data.loc[embarked_mask_train].fillna(str(embarked_mode_train))\n",
    "print('Embarked nans in train_data', train_data['Embarked'].isna().sum())\n",
    "\n",
    "# val\n",
    "embarked_mode_val = val_data['Embarked'].mode()\n",
    "embarked_mask_val = val_data['Embarked'].isna()\n",
    "val_data.loc[embarked_mask_val] = val_data.loc[embarked_mask_val].fillna(str(embarked_mode_val))\n",
    "print('Embarked nans in val_data', val_data['Embarked'].isna().sum())\n",
    "\n",
    "# test \n",
    "embarked_mode_test = test_data['Embarked'].mode()\n",
    "embarked_mask_test = test_data['Embarked'].isna()\n",
    "test_data.loc[embarked_mask_test] = test_data.loc[embarked_mask_test].fillna(str(embarked_mode_test))\n",
    "print('Embarked nans in test_data', test_data['Embarked'].isna().sum())\n",
    "\n",
    "train_data.select_dtypes(include=('object')).info()\n",
    "val_data.select_dtypes(include=('object')).info()\n",
    "test_data.select_dtypes(include=('object')).info()"
   ]
  },
  {
   "cell_type": "markdown",
   "metadata": {},
   "source": [
    "### Numerical Values"
   ]
  },
  {
   "cell_type": "markdown",
   "metadata": {},
   "source": [
    "`Age` is the only feature with missing values"
   ]
  },
  {
   "cell_type": "code",
   "execution_count": 8,
   "metadata": {},
   "outputs": [
    {
     "name": "stdout",
     "output_type": "stream",
     "text": [
      "<class 'pandas.core.frame.DataFrame'>\n",
      "Index: 623 entries, 445 to 102\n",
      "Data columns (total 5 columns):\n",
      " #   Column  Non-Null Count  Dtype  \n",
      "---  ------  --------------  -----  \n",
      " 0   Pclass  623 non-null    int64  \n",
      " 1   Age     623 non-null    float64\n",
      " 2   SibSp   623 non-null    int64  \n",
      " 3   Parch   623 non-null    int64  \n",
      " 4   Fare    623 non-null    float64\n",
      "dtypes: float64(2), int64(3)\n",
      "memory usage: 29.2 KB\n",
      "<class 'pandas.core.frame.DataFrame'>\n",
      "Index: 268 entries, 709 to 430\n",
      "Data columns (total 5 columns):\n",
      " #   Column  Non-Null Count  Dtype  \n",
      "---  ------  --------------  -----  \n",
      " 0   Pclass  268 non-null    int64  \n",
      " 1   Age     268 non-null    float64\n",
      " 2   SibSp   268 non-null    int64  \n",
      " 3   Parch   268 non-null    int64  \n",
      " 4   Fare    268 non-null    float64\n",
      "dtypes: float64(2), int64(3)\n",
      "memory usage: 12.6 KB\n",
      "<class 'pandas.core.frame.DataFrame'>\n",
      "RangeIndex: 418 entries, 0 to 417\n",
      "Data columns (total 5 columns):\n",
      " #   Column  Non-Null Count  Dtype  \n",
      "---  ------  --------------  -----  \n",
      " 0   Pclass  418 non-null    int64  \n",
      " 1   Age     418 non-null    float64\n",
      " 2   SibSp   418 non-null    int64  \n",
      " 3   Parch   418 non-null    int64  \n",
      " 4   Fare    417 non-null    float64\n",
      "dtypes: float64(2), int64(3)\n",
      "memory usage: 16.5 KB\n"
     ]
    }
   ],
   "source": [
    "# train\n",
    "age_mean_train = train_data['Age'].mean()\n",
    "age_mask_train = train_data['Age'].isna()\n",
    "train_data.loc[age_mask_train] = train_data.loc[age_mask_train].fillna(age_mean_train)\n",
    "\n",
    "# validation\n",
    "age_mean_val = train_data['Age'].mean()\n",
    "age_mask_val = val_data['Age'].isna()\n",
    "val_data.loc[age_mask_val] = val_data.loc[age_mask_val].fillna(age_mean_val)\n",
    "\n",
    "# test\n",
    "age_mean_test = test_data['Age'].mean()\n",
    "age_mask_test = test_data['Age'].isna()\n",
    "test_data.loc[age_mask_test] = test_data.loc[age_mask_test].fillna(age_mean_test)\n",
    "\n",
    "train_data.select_dtypes(exclude=('object')).info()\n",
    "val_data.select_dtypes(exclude=('object')).info()\n",
    "test_data.select_dtypes(exclude=('object')).info()"
   ]
  },
  {
   "cell_type": "markdown",
   "metadata": {},
   "source": [
    "Interesting that in the `test_data` there are missing values in the `Fare` feature, let's imput them"
   ]
  },
  {
   "cell_type": "code",
   "execution_count": 9,
   "metadata": {},
   "outputs": [
    {
     "name": "stdout",
     "output_type": "stream",
     "text": [
      "<class 'pandas.core.frame.DataFrame'>\n",
      "RangeIndex: 418 entries, 0 to 417\n",
      "Data columns (total 5 columns):\n",
      " #   Column  Non-Null Count  Dtype  \n",
      "---  ------  --------------  -----  \n",
      " 0   Pclass  418 non-null    int64  \n",
      " 1   Age     418 non-null    float64\n",
      " 2   SibSp   418 non-null    int64  \n",
      " 3   Parch   418 non-null    int64  \n",
      " 4   Fare    418 non-null    float64\n",
      "dtypes: float64(2), int64(3)\n",
      "memory usage: 16.5 KB\n"
     ]
    }
   ],
   "source": [
    "fare_mean_test = test_data['Fare'].mean()\n",
    "fare_mask_test = test_data['Fare'].isna()\n",
    "test_data.loc[fare_mask_test] = test_data.loc[fare_mask_test].fillna(fare_mean_test)\n",
    "test_data.select_dtypes(exclude='object').info()"
   ]
  },
  {
   "cell_type": "markdown",
   "metadata": {},
   "source": [
    "we won't remove the `PassengerId` feature here, but we'll keep it as we need it later for submissions"
   ]
  },
  {
   "cell_type": "markdown",
   "metadata": {},
   "source": [
    "## Handle Outliers"
   ]
  },
  {
   "cell_type": "markdown",
   "metadata": {},
   "source": [
    "Here we are going to handle outliers for the numerical values"
   ]
  },
  {
   "cell_type": "markdown",
   "metadata": {},
   "source": [
    "### SibSp"
   ]
  },
  {
   "cell_type": "markdown",
   "metadata": {},
   "source": [
    "There are outliers far away from the mean and also from distribution edges in this feature"
   ]
  },
  {
   "cell_type": "markdown",
   "metadata": {},
   "source": [
    "#### Train"
   ]
  },
  {
   "cell_type": "code",
   "execution_count": 10,
   "metadata": {},
   "outputs": [],
   "source": [
    "# check how many SibSp outliers exists in train dataset\n",
    "# outliers_count = train_data.loc[train_data['SibSp'] > 4.0]\n",
    "# print('number of total values in the feature: ', train_data['SibSp'].count())\n",
    "# print('number of outliers: ', outliers_count['SibSp'].count())\n",
    "# print('Percentage of outliers agains dataset: ', (outliers_count['SibSp'].count()/len(train_data)).round(3)*100 )\n",
    "# outliers_count"
   ]
  },
  {
   "cell_type": "markdown",
   "metadata": {},
   "source": [
    "Taking a closer look at the amount of 'outliers' in this feature, we find that they represent the 1.9% of the dataset which is not a significant amount to winsorizing or similar"
   ]
  },
  {
   "cell_type": "markdown",
   "metadata": {},
   "source": [
    "BUT for practice purposes we're going to winsorizing to this feature."
   ]
  },
  {
   "cell_type": "code",
   "execution_count": 11,
   "metadata": {},
   "outputs": [],
   "source": [
    "# we take Q3 as the max and Q1 as the min, Q1=0 Q3=1.0\n",
    "# mask = train_data['SibSp'] > 4\n",
    "# train_data.loc[mask, 'SibSp'] = 4\n",
    "# print('max SibSp value: ', train_data['SibSp'].max())\n",
    "\n",
    "# fig = plt.figure(figsize=(20, 10))\n",
    "# ax = []\n",
    "# ax.append(sns.histplot(train_data['SibSp'], kde = True))\n",
    "# plt.show()"
   ]
  },
  {
   "cell_type": "code",
   "execution_count": 12,
   "metadata": {},
   "outputs": [],
   "source": [
    "# check winsorizing ok\n",
    "# train_data.loc[train_data['SibSp'] == 4]"
   ]
  },
  {
   "cell_type": "markdown",
   "metadata": {},
   "source": [
    "#### Test"
   ]
  },
  {
   "cell_type": "code",
   "execution_count": 13,
   "metadata": {},
   "outputs": [],
   "source": [
    "# check how many SibSp outliers exists in the test dataset \n",
    "# outliers_count = test_data.loc[test_data['SibSp'] > 4.0]\n",
    "# print('number of total values in the feature: ', test_data['SibSp'].count())\n",
    "# print('number of outliers: ', outliers_count['SibSp'].count())\n",
    "# print('Percentage of outliers agains dataset: ', (outliers_count['SibSp'].count()/len(test_data)).round(3)*100)\n",
    "# outliers_count"
   ]
  },
  {
   "cell_type": "code",
   "execution_count": 14,
   "metadata": {},
   "outputs": [],
   "source": [
    "# # we take Q3 as the max and Q1 as the min, Q1=0 Q3=1.0\n",
    "# mask = test_data['SibSp'] > 4\n",
    "# test_data.loc[mask, 'SibSp'] = 4\n",
    "# print('max SibSp value: ', test_data['SibSp'].max())\n",
    "\n",
    "# fig = plt.figure(figsize=(20, 10))\n",
    "# ax = []\n",
    "# ax.append(sns.histplot(test_data['SibSp'], kde = True))\n",
    "# plt.show()"
   ]
  },
  {
   "cell_type": "code",
   "execution_count": 15,
   "metadata": {},
   "outputs": [],
   "source": [
    "# check winsorizing ok\n",
    "# test_data.loc[test_data['SibSp'] == 4]"
   ]
  },
  {
   "cell_type": "markdown",
   "metadata": {},
   "source": [
    "### Parch"
   ]
  },
  {
   "cell_type": "markdown",
   "metadata": {},
   "source": [
    "#### Train"
   ]
  },
  {
   "cell_type": "code",
   "execution_count": 16,
   "metadata": {},
   "outputs": [],
   "source": [
    "# # check how many Parch outliers exists \n",
    "# outliers_count = train_data.loc[train_data['Parch'] > 2]\n",
    "# print('number of total values in the feature: ', train_data['Parch'].count())\n",
    "# print('number of outliers: ', outliers_count['Parch'].count())\n",
    "# print('Percentage of outliers agains dataset: ', (outliers_count['Parch'].count()/len(train_data)).round(3)*100 )\n",
    "# outliers_count"
   ]
  },
  {
   "cell_type": "markdown",
   "metadata": {},
   "source": [
    "Same as the last feature, not a mandatory preprocess but for academic purposes let's winsorize"
   ]
  },
  {
   "cell_type": "code",
   "execution_count": 17,
   "metadata": {},
   "outputs": [],
   "source": [
    "# # Q1=0 and Q3=2\n",
    "# mask = train_data['Parch'] > 2\n",
    "# train_data.loc[mask, 'Parch'] = 2\n",
    "# print('max Parch value: ', train_data['Parch'].max())\n",
    "\n",
    "# fig = plt.figure(figsize=(20, 10))\n",
    "# ax = []\n",
    "# ax.append(sns.histplot(train_data['Parch'], kde = True))\n",
    "# plt.show()"
   ]
  },
  {
   "cell_type": "code",
   "execution_count": 18,
   "metadata": {},
   "outputs": [],
   "source": [
    "# train_data.loc[train_data['Parch'] == 2]"
   ]
  },
  {
   "cell_type": "markdown",
   "metadata": {},
   "source": [
    "#### Test"
   ]
  },
  {
   "cell_type": "code",
   "execution_count": 19,
   "metadata": {},
   "outputs": [],
   "source": [
    "# # check how many Parch outliers exists in the test dataset\n",
    "# outliers_count = test_data.loc[test_data['Parch'] > 2]\n",
    "# print('number of total values in the feature: ', test_data['Parch'].count())\n",
    "# print('number of outliers: ', outliers_count['Parch'].count())\n",
    "# print('Percentage of outliers agains dataset: ', (outliers_count['Parch'].count()/len(test_data)).round(3)*100 )\n",
    "# outliers_count"
   ]
  },
  {
   "cell_type": "code",
   "execution_count": 20,
   "metadata": {},
   "outputs": [],
   "source": [
    "# # Q1=0 Q3=2\n",
    "# mask = test_data['Parch'] > 2\n",
    "# test_data.loc[mask, 'Parch'] = 2\n",
    "# print('max Parch value: ', test_data['Parch'].max())\n",
    "\n",
    "# fig = plt.figure(figsize=(20, 10))\n",
    "# ax = []\n",
    "# ax.append(sns.histplot(test_data['Parch'], kde = True))\n",
    "# plt.show()"
   ]
  },
  {
   "cell_type": "code",
   "execution_count": 21,
   "metadata": {},
   "outputs": [],
   "source": [
    "# test_data.loc[test_data['Parch'] == 2]"
   ]
  },
  {
   "cell_type": "markdown",
   "metadata": {},
   "source": [
    "### Fare"
   ]
  },
  {
   "cell_type": "markdown",
   "metadata": {},
   "source": [
    "#### Train"
   ]
  },
  {
   "cell_type": "code",
   "execution_count": 22,
   "metadata": {},
   "outputs": [],
   "source": [
    "# outliers_count = train_data.loc[train_data['Fare'] > 200]\n",
    "# print('number of total values in the feature: ', train_data['Fare'].count())\n",
    "# print('number of outliers: ', outliers_count['Fare'].count())\n",
    "# print('Percentage of outliers agains dataset: ', (outliers_count['Fare'].count()/len(train_data)).round(3)*100,'%' )\n",
    "# outliers_count"
   ]
  },
  {
   "cell_type": "code",
   "execution_count": 23,
   "metadata": {},
   "outputs": [],
   "source": [
    "# # Q1=0  Q3=200\n",
    "# mask = train_data['Fare'] > 200\n",
    "# train_data.loc[mask, 'Fare'] = 200\n",
    "# print('max Fare value: ', train_data['Fare'].max())\n",
    "\n",
    "# fig = plt.figure(figsize=(20, 10))\n",
    "# ax = []\n",
    "# ax.append(sns.histplot(train_data['Fare'], kde = True))\n",
    "# plt.show()"
   ]
  },
  {
   "cell_type": "code",
   "execution_count": 24,
   "metadata": {},
   "outputs": [],
   "source": [
    "# train_data.loc[train_data['Fare'] == 200]"
   ]
  },
  {
   "cell_type": "markdown",
   "metadata": {},
   "source": [
    "#### Test"
   ]
  },
  {
   "cell_type": "code",
   "execution_count": 25,
   "metadata": {},
   "outputs": [],
   "source": [
    "# outliers_count = test_data.loc[test_data['Fare'] > 200]\n",
    "# print('number of total values in the feature: ', test_data['Fare'].count())\n",
    "# print('number of outliers: ', outliers_count['Fare'].count())\n",
    "# print('Percentage of outliers agains dataset: ', (outliers_count['Fare'].count()/len(test_data)).round(3)*100,'%' )\n",
    "# outliers_count"
   ]
  },
  {
   "cell_type": "code",
   "execution_count": 26,
   "metadata": {},
   "outputs": [],
   "source": [
    "# mask = test_data['Fare'] > 200\n",
    "# test_data.loc[mask, 'Fare'] = 200\n",
    "# print('max Fare value: ', test_data['Fare'].max())\n",
    "\n",
    "# fig = plt.figure(figsize=(20, 10))\n",
    "# ax = []\n",
    "# ax.append(sns.histplot(test_data['Fare'], kde = True))\n",
    "# plt.show()"
   ]
  },
  {
   "cell_type": "code",
   "execution_count": 27,
   "metadata": {},
   "outputs": [],
   "source": [
    "# test_data.loc[test_data['Fare'] == 200]"
   ]
  },
  {
   "cell_type": "markdown",
   "metadata": {},
   "source": [
    "## Feature Engineering"
   ]
  },
  {
   "cell_type": "markdown",
   "metadata": {},
   "source": [
    "### Name"
   ]
  },
  {
   "cell_type": "markdown",
   "metadata": {},
   "source": [
    "From name we can extract the titles like MR. MSS. ETC ..."
   ]
  },
  {
   "cell_type": "code",
   "execution_count": 28,
   "metadata": {},
   "outputs": [
    {
     "name": "stdout",
     "output_type": "stream",
     "text": [
      "Title\n",
      "Mr          368\n",
      "Miss        125\n",
      "Mrs          82\n",
      "Master       31\n",
      "Rev           4\n",
      "Dr            4\n",
      "Col           2\n",
      "Mlle          2\n",
      "Capt          1\n",
      "Mme           1\n",
      "Ms            1\n",
      "Countess      1\n",
      "Lady          1\n",
      "Name: count, dtype: int64\n"
     ]
    },
    {
     "data": {
      "image/png": "[encoded data removed]",
      "text/plain": [
       "<Figure size 2000x1000 with 1 Axes>"
      ]
     },
     "metadata": {},
     "output_type": "display_data"
    },
    {
     "name": "stdout",
     "output_type": "stream",
     "text": [
      "Title\n",
      "Mr          149\n",
      "Miss         57\n",
      "Mrs          43\n",
      "Master        9\n",
      "Dr            3\n",
      "Rev           2\n",
      "Major         2\n",
      "Don           1\n",
      "Jonkheer      1\n",
      "Sir           1\n",
      "Name: count, dtype: int64\n"
     ]
    },
    {
     "data": {
      "image/png": "[encoded data removed]",
      "text/plain": [
       "<Figure size 2000x1000 with 1 Axes>"
      ]
     },
     "metadata": {},
     "output_type": "display_data"
    },
    {
     "name": "stdout",
     "output_type": "stream",
     "text": [
      "Title\n",
      "Mr        240\n",
      "Miss       78\n",
      "Mrs        72\n",
      "Master     21\n",
      "Col         2\n",
      "Rev         2\n",
      "Ms          1\n",
      "Dr          1\n",
      "Dona        1\n",
      "Name: count, dtype: int64\n"
     ]
    },
    {
     "data": {
      "image/png": "[encoded data removed]",
      "text/plain": [
       "<Figure size 2000x1000 with 1 Axes>"
      ]
     },
     "metadata": {},
     "output_type": "display_data"
    }
   ],
   "source": [
    "# Extract titles from the name feature training\n",
    "train_data['Title'] = train_data['Name'].str.extract(' ([A-Za-z]+)\\.', expand=False)\n",
    "print(train_data['Title'].value_counts())\n",
    "titleFig = plt.figure(figsize=(20, 10))\n",
    "ax = []\n",
    "ax.append(sns.countplot(data=train_data, x=train_data['Title']))\n",
    "plt.show()\n",
    "\n",
    "# Extract titles from the name feature validation\n",
    "val_data['Title'] = val_data['Name'].str.extract(' ([A-Za-z]+)\\.', expand=False)\n",
    "print(val_data['Title'].value_counts())\n",
    "titleFig = plt.figure(figsize=(20, 10))\n",
    "ax = []\n",
    "ax.append(sns.countplot(data=val_data, x=val_data['Title']))\n",
    "plt.show()\n",
    "\n",
    "# Extract titles from the name feature test\n",
    "test_data['Title'] = test_data['Name'].str.extract(' ([A-Za-z]+)\\.', expand=False)\n",
    "print(test_data['Title'].value_counts())\n",
    "titleFig = plt.figure(figsize=(20, 10))\n",
    "ax = []\n",
    "ax.append(sns.countplot(data=test_data, x=test_data['Title']))\n",
    "plt.show()"
   ]
  },
  {
   "cell_type": "markdown",
   "metadata": {},
   "source": [
    "Now that we have the name titles, we don't longer need the name column so we are going to remove it"
   ]
  },
  {
   "cell_type": "code",
   "execution_count": 29,
   "metadata": {},
   "outputs": [],
   "source": [
    "# dropping Name column training\n",
    "train_data = train_data.drop(columns=['Name'])\n",
    "\n",
    "# dropping Name column validation\n",
    "val_data = val_data.drop(columns=['Name'])\n",
    "\n",
    "# droppin Name coolumn test\n",
    "test_data = test_data.drop(columns=['Name'])"
   ]
  },
  {
   "cell_type": "code",
   "execution_count": 30,
   "metadata": {},
   "outputs": [
    {
     "name": "stdout",
     "output_type": "stream",
     "text": [
      "     Pclass     Sex        Age  SibSp  Parch     Fare Embarked   Title\n",
      "445       1    male   4.000000      0      2  81.8583        S  Master\n",
      "650       3    male  29.256353      0      0   7.8958        S      Mr\n",
      "172       3  female   1.000000      1      1  11.1333        S    Miss\n",
      "450       2    male  36.000000      1      2  27.7500        S      Mr\n",
      "314       2    male  43.000000      1      1  26.2500        S      Mr\n",
      "     Pclass     Sex        Age  SibSp  Parch     Fare Embarked   Title\n",
      "709       3    male  29.256353      1      1  15.2458        C  Master\n",
      "439       2    male  31.000000      0      0  10.5000        S      Mr\n",
      "840       3    male  20.000000      0      0   7.9250        S      Mr\n",
      "720       2  female   6.000000      0      1  33.0000        S    Miss\n",
      "39        3  female  14.000000      1      0  11.2417        C    Miss\n",
      "   Pclass     Sex   Age  SibSp  Parch     Fare Embarked Title\n",
      "0       3    male  34.5      0      0   7.8292        Q    Mr\n",
      "1       3  female  47.0      1      0   7.0000        S   Mrs\n",
      "2       2    male  62.0      0      0   9.6875        Q    Mr\n",
      "3       3    male  27.0      0      0   8.6625        S    Mr\n",
      "4       3  female  22.0      1      1  12.2875        S   Mrs\n"
     ]
    }
   ],
   "source": [
    "# let's check for each \n",
    "print(train_data.head())\n",
    "print(val_data.head())\n",
    "print(test_data.head())"
   ]
  },
  {
   "cell_type": "markdown",
   "metadata": {},
   "source": [
    "## Categorical Encoding"
   ]
  },
  {
   "cell_type": "code",
   "execution_count": 31,
   "metadata": {},
   "outputs": [
    {
     "name": "stdout",
     "output_type": "stream",
     "text": [
      "OneHotEncoder processing columns:  ['Sex', 'Embarked']\n",
      "LabelEncoder processing column:  ['Title']\n"
     ]
    }
   ],
   "source": [
    "# extract cat cols\n",
    "cat_cols = [cname for cname in train_data.columns if train_data[cname].dtype == \"object\"]\n",
    "cat_cols_one_hot = cat_cols[0:2]\n",
    "cat_cols_label_enc = cat_cols[2:]\n",
    "print('OneHotEncoder processing columns: ', cat_cols_one_hot )\n",
    "print('LabelEncoder processing column: ', cat_cols_label_enc )"
   ]
  },
  {
   "cell_type": "markdown",
   "metadata": {},
   "source": [
    "### One-Hot Endoding"
   ]
  },
  {
   "cell_type": "code",
   "execution_count": 32,
   "metadata": {},
   "outputs": [
    {
     "name": "stdout",
     "output_type": "stream",
     "text": [
      "(623, 12)\n",
      "(268, 12)\n",
      "(418, 12)\n",
      "categorical data handled with one-hot-encoded\n"
     ]
    }
   ],
   "source": [
    "oneHotEncoder = OneHotEncoder(handle_unknown='ignore')\n",
    "\n",
    "# fit the encoder in the training data and then usit in other datasets\n",
    "train_data_encoded = oneHotEncoder.fit_transform(train_data[cat_cols_one_hot])\n",
    "val_data_encoded = oneHotEncoder.fit_transform(val_data[cat_cols_one_hot])\n",
    "test_data_encoded = oneHotEncoder.transform(test_data[cat_cols_one_hot])\n",
    "\n",
    "# convert encoded datasets to pandas dataframes\n",
    "train_data_encoded_df = pd.DataFrame(train_data_encoded.toarray(), columns=oneHotEncoder.get_feature_names_out(cat_cols_one_hot))\n",
    "val_data_encoded_df = pd.DataFrame(val_data_encoded.toarray(), columns=oneHotEncoder.get_feature_names_out(cat_cols_one_hot))\n",
    "test_data_encoded_df = pd.DataFrame(test_data_encoded.toarray(), columns=oneHotEncoder.get_feature_names_out(cat_cols_one_hot))\n",
    "\n",
    "# drop cat_cols from the original dataset\n",
    "train_data = train_data.drop(columns=cat_cols_one_hot, axis=1)\n",
    "val_data = val_data.drop(columns=cat_cols_one_hot, axis=1)\n",
    "test_data = test_data.drop(columns=cat_cols_one_hot, axis=1)\n",
    "\n",
    "# Concatenate original dataset with new encoded datasets\n",
    "train_dataset_encoded = pd.concat([train_data.reset_index(drop=True), train_data_encoded_df], axis=1)\n",
    "val_dataset_encoded = pd.concat([val_data.reset_index(drop=True), val_data_encoded_df], axis=1)\n",
    "test_dataset_encoded = pd.concat([test_data.reset_index(drop=True), test_data_encoded_df], axis=1)\n",
    "\n",
    "print(train_dataset_encoded.shape)\n",
    "print(val_dataset_encoded.shape)\n",
    "print(test_dataset_encoded.shape)\n",
    "\n",
    "print('categorical data handled with one-hot-encoded')"
   ]
  },
  {
   "cell_type": "markdown",
   "metadata": {},
   "source": [
    "### Label Encoding"
   ]
  },
  {
   "cell_type": "code",
   "execution_count": 33,
   "metadata": {},
   "outputs": [
    {
     "data": {
      "text/html": [
       "<div>\n",
       "<style scoped>\n",
       "    .dataframe tbody tr th:only-of-type {\n",
       "        vertical-align: middle;\n",
       "    }\n",
       "\n",
       "    .dataframe tbody tr th {\n",
       "        vertical-align: top;\n",
       "    }\n",
       "\n",
       "    .dataframe thead th {\n",
       "        text-align: right;\n",
       "    }\n",
       "</style>\n",
       "<table border=\"1\" class=\"dataframe\">\n",
       "  <thead>\n",
       "    <tr style=\"text-align: right;\">\n",
       "      <th></th>\n",
       "      <th>Pclass</th>\n",
       "      <th>Age</th>\n",
       "      <th>SibSp</th>\n",
       "      <th>Parch</th>\n",
       "      <th>Fare</th>\n",
       "      <th>Title</th>\n",
       "      <th>Sex_female</th>\n",
       "      <th>Sex_male</th>\n",
       "      <th>Embarked_0    S\\nName: Embarked, dtype: object</th>\n",
       "      <th>Embarked_C</th>\n",
       "      <th>Embarked_Q</th>\n",
       "      <th>Embarked_S</th>\n",
       "    </tr>\n",
       "  </thead>\n",
       "  <tbody>\n",
       "    <tr>\n",
       "      <th>0</th>\n",
       "      <td>1</td>\n",
       "      <td>4.000000</td>\n",
       "      <td>0</td>\n",
       "      <td>2</td>\n",
       "      <td>81.8583</td>\n",
       "      <td>Master</td>\n",
       "      <td>0.0</td>\n",
       "      <td>1.0</td>\n",
       "      <td>0.0</td>\n",
       "      <td>0.0</td>\n",
       "      <td>0.0</td>\n",
       "      <td>1.0</td>\n",
       "    </tr>\n",
       "    <tr>\n",
       "      <th>1</th>\n",
       "      <td>3</td>\n",
       "      <td>29.256353</td>\n",
       "      <td>0</td>\n",
       "      <td>0</td>\n",
       "      <td>7.8958</td>\n",
       "      <td>Mr</td>\n",
       "      <td>0.0</td>\n",
       "      <td>1.0</td>\n",
       "      <td>0.0</td>\n",
       "      <td>0.0</td>\n",
       "      <td>0.0</td>\n",
       "      <td>1.0</td>\n",
       "    </tr>\n",
       "    <tr>\n",
       "      <th>2</th>\n",
       "      <td>3</td>\n",
       "      <td>1.000000</td>\n",
       "      <td>1</td>\n",
       "      <td>1</td>\n",
       "      <td>11.1333</td>\n",
       "      <td>Miss</td>\n",
       "      <td>1.0</td>\n",
       "      <td>0.0</td>\n",
       "      <td>0.0</td>\n",
       "      <td>0.0</td>\n",
       "      <td>0.0</td>\n",
       "      <td>1.0</td>\n",
       "    </tr>\n",
       "    <tr>\n",
       "      <th>3</th>\n",
       "      <td>2</td>\n",
       "      <td>36.000000</td>\n",
       "      <td>1</td>\n",
       "      <td>2</td>\n",
       "      <td>27.7500</td>\n",
       "      <td>Mr</td>\n",
       "      <td>0.0</td>\n",
       "      <td>1.0</td>\n",
       "      <td>0.0</td>\n",
       "      <td>0.0</td>\n",
       "      <td>0.0</td>\n",
       "      <td>1.0</td>\n",
       "    </tr>\n",
       "    <tr>\n",
       "      <th>4</th>\n",
       "      <td>2</td>\n",
       "      <td>43.000000</td>\n",
       "      <td>1</td>\n",
       "      <td>1</td>\n",
       "      <td>26.2500</td>\n",
       "      <td>Mr</td>\n",
       "      <td>0.0</td>\n",
       "      <td>1.0</td>\n",
       "      <td>0.0</td>\n",
       "      <td>0.0</td>\n",
       "      <td>0.0</td>\n",
       "      <td>1.0</td>\n",
       "    </tr>\n",
       "  </tbody>\n",
       "</table>\n",
       "</div>"
      ],
      "text/plain": [
       "   Pclass        Age  SibSp  Parch     Fare   Title  Sex_female  Sex_male  \\\n",
       "0       1   4.000000      0      2  81.8583  Master         0.0       1.0   \n",
       "1       3  29.256353      0      0   7.8958      Mr         0.0       1.0   \n",
       "2       3   1.000000      1      1  11.1333    Miss         1.0       0.0   \n",
       "3       2  36.000000      1      2  27.7500      Mr         0.0       1.0   \n",
       "4       2  43.000000      1      1  26.2500      Mr         0.0       1.0   \n",
       "\n",
       "   Embarked_0    S\\nName: Embarked, dtype: object  Embarked_C  Embarked_Q  \\\n",
       "0                                             0.0         0.0         0.0   \n",
       "1                                             0.0         0.0         0.0   \n",
       "2                                             0.0         0.0         0.0   \n",
       "3                                             0.0         0.0         0.0   \n",
       "4                                             0.0         0.0         0.0   \n",
       "\n",
       "   Embarked_S  \n",
       "0         1.0  \n",
       "1         1.0  \n",
       "2         1.0  \n",
       "3         1.0  \n",
       "4         1.0  "
      ]
     },
     "execution_count": 33,
     "metadata": {},
     "output_type": "execute_result"
    }
   ],
   "source": [
    "train_dataset_encoded.head()"
   ]
  },
  {
   "cell_type": "code",
   "execution_count": 34,
   "metadata": {},
   "outputs": [
    {
     "name": "stdout",
     "output_type": "stream",
     "text": [
      "(623, 12)\n",
      "(268, 12)\n",
      "(418, 12)\n",
      "categorical data handled with label encoding\n"
     ]
    }
   ],
   "source": [
    "labelEncoder = LabelEncoder()\n",
    "\n",
    "# fit the encoder in the training data and then use it in other datasets\n",
    "train_dataset_encoded['Title'] = labelEncoder.fit_transform(train_data['Title'])\n",
    "val_dataset_encoded['Title'] = labelEncoder.fit_transform(val_data['Title'])\n",
    "test_dataset_encoded['Title'] = labelEncoder.fit_transform(test_data['Title'])\n",
    "\n",
    "print(train_dataset_encoded.shape)\n",
    "print(val_dataset_encoded.shape)\n",
    "print(test_dataset_encoded.shape)\n",
    "\n",
    "print('categorical data handled with label encoding')\n"
   ]
  },
  {
   "cell_type": "code",
   "execution_count": 35,
   "metadata": {},
   "outputs": [
    {
     "data": {
      "text/html": [
       "<div>\n",
       "<style scoped>\n",
       "    .dataframe tbody tr th:only-of-type {\n",
       "        vertical-align: middle;\n",
       "    }\n",
       "\n",
       "    .dataframe tbody tr th {\n",
       "        vertical-align: top;\n",
       "    }\n",
       "\n",
       "    .dataframe thead th {\n",
       "        text-align: right;\n",
       "    }\n",
       "</style>\n",
       "<table border=\"1\" class=\"dataframe\">\n",
       "  <thead>\n",
       "    <tr style=\"text-align: right;\">\n",
       "      <th></th>\n",
       "      <th>Pclass</th>\n",
       "      <th>Age</th>\n",
       "      <th>SibSp</th>\n",
       "      <th>Parch</th>\n",
       "      <th>Fare</th>\n",
       "      <th>Title</th>\n",
       "      <th>Sex_female</th>\n",
       "      <th>Sex_male</th>\n",
       "      <th>Embarked_0    S\\nName: Embarked, dtype: object</th>\n",
       "      <th>Embarked_C</th>\n",
       "      <th>Embarked_Q</th>\n",
       "      <th>Embarked_S</th>\n",
       "    </tr>\n",
       "  </thead>\n",
       "  <tbody>\n",
       "    <tr>\n",
       "      <th>0</th>\n",
       "      <td>1</td>\n",
       "      <td>4.000000</td>\n",
       "      <td>0</td>\n",
       "      <td>2</td>\n",
       "      <td>81.8583</td>\n",
       "      <td>5</td>\n",
       "      <td>0.0</td>\n",
       "      <td>1.0</td>\n",
       "      <td>0.0</td>\n",
       "      <td>0.0</td>\n",
       "      <td>0.0</td>\n",
       "      <td>1.0</td>\n",
       "    </tr>\n",
       "    <tr>\n",
       "      <th>1</th>\n",
       "      <td>3</td>\n",
       "      <td>29.256353</td>\n",
       "      <td>0</td>\n",
       "      <td>0</td>\n",
       "      <td>7.8958</td>\n",
       "      <td>9</td>\n",
       "      <td>0.0</td>\n",
       "      <td>1.0</td>\n",
       "      <td>0.0</td>\n",
       "      <td>0.0</td>\n",
       "      <td>0.0</td>\n",
       "      <td>1.0</td>\n",
       "    </tr>\n",
       "    <tr>\n",
       "      <th>2</th>\n",
       "      <td>3</td>\n",
       "      <td>1.000000</td>\n",
       "      <td>1</td>\n",
       "      <td>1</td>\n",
       "      <td>11.1333</td>\n",
       "      <td>6</td>\n",
       "      <td>1.0</td>\n",
       "      <td>0.0</td>\n",
       "      <td>0.0</td>\n",
       "      <td>0.0</td>\n",
       "      <td>0.0</td>\n",
       "      <td>1.0</td>\n",
       "    </tr>\n",
       "    <tr>\n",
       "      <th>3</th>\n",
       "      <td>2</td>\n",
       "      <td>36.000000</td>\n",
       "      <td>1</td>\n",
       "      <td>2</td>\n",
       "      <td>27.7500</td>\n",
       "      <td>9</td>\n",
       "      <td>0.0</td>\n",
       "      <td>1.0</td>\n",
       "      <td>0.0</td>\n",
       "      <td>0.0</td>\n",
       "      <td>0.0</td>\n",
       "      <td>1.0</td>\n",
       "    </tr>\n",
       "    <tr>\n",
       "      <th>4</th>\n",
       "      <td>2</td>\n",
       "      <td>43.000000</td>\n",
       "      <td>1</td>\n",
       "      <td>1</td>\n",
       "      <td>26.2500</td>\n",
       "      <td>9</td>\n",
       "      <td>0.0</td>\n",
       "      <td>1.0</td>\n",
       "      <td>0.0</td>\n",
       "      <td>0.0</td>\n",
       "      <td>0.0</td>\n",
       "      <td>1.0</td>\n",
       "    </tr>\n",
       "    <tr>\n",
       "      <th>...</th>\n",
       "      <td>...</td>\n",
       "      <td>...</td>\n",
       "      <td>...</td>\n",
       "      <td>...</td>\n",
       "      <td>...</td>\n",
       "      <td>...</td>\n",
       "      <td>...</td>\n",
       "      <td>...</td>\n",
       "      <td>...</td>\n",
       "      <td>...</td>\n",
       "      <td>...</td>\n",
       "      <td>...</td>\n",
       "    </tr>\n",
       "    <tr>\n",
       "      <th>618</th>\n",
       "      <td>3</td>\n",
       "      <td>21.000000</td>\n",
       "      <td>0</td>\n",
       "      <td>0</td>\n",
       "      <td>7.6500</td>\n",
       "      <td>6</td>\n",
       "      <td>1.0</td>\n",
       "      <td>0.0</td>\n",
       "      <td>0.0</td>\n",
       "      <td>0.0</td>\n",
       "      <td>0.0</td>\n",
       "      <td>1.0</td>\n",
       "    </tr>\n",
       "    <tr>\n",
       "      <th>619</th>\n",
       "      <td>1</td>\n",
       "      <td>29.256353</td>\n",
       "      <td>0</td>\n",
       "      <td>0</td>\n",
       "      <td>31.0000</td>\n",
       "      <td>9</td>\n",
       "      <td>0.0</td>\n",
       "      <td>1.0</td>\n",
       "      <td>0.0</td>\n",
       "      <td>0.0</td>\n",
       "      <td>0.0</td>\n",
       "      <td>1.0</td>\n",
       "    </tr>\n",
       "    <tr>\n",
       "      <th>620</th>\n",
       "      <td>3</td>\n",
       "      <td>41.000000</td>\n",
       "      <td>2</td>\n",
       "      <td>0</td>\n",
       "      <td>14.1083</td>\n",
       "      <td>9</td>\n",
       "      <td>0.0</td>\n",
       "      <td>1.0</td>\n",
       "      <td>0.0</td>\n",
       "      <td>0.0</td>\n",
       "      <td>0.0</td>\n",
       "      <td>1.0</td>\n",
       "    </tr>\n",
       "    <tr>\n",
       "      <th>621</th>\n",
       "      <td>1</td>\n",
       "      <td>14.000000</td>\n",
       "      <td>1</td>\n",
       "      <td>2</td>\n",
       "      <td>120.0000</td>\n",
       "      <td>6</td>\n",
       "      <td>1.0</td>\n",
       "      <td>0.0</td>\n",
       "      <td>0.0</td>\n",
       "      <td>0.0</td>\n",
       "      <td>0.0</td>\n",
       "      <td>1.0</td>\n",
       "    </tr>\n",
       "    <tr>\n",
       "      <th>622</th>\n",
       "      <td>1</td>\n",
       "      <td>21.000000</td>\n",
       "      <td>0</td>\n",
       "      <td>1</td>\n",
       "      <td>77.2875</td>\n",
       "      <td>9</td>\n",
       "      <td>0.0</td>\n",
       "      <td>1.0</td>\n",
       "      <td>0.0</td>\n",
       "      <td>0.0</td>\n",
       "      <td>0.0</td>\n",
       "      <td>1.0</td>\n",
       "    </tr>\n",
       "  </tbody>\n",
       "</table>\n",
       "<p>623 rows × 12 columns</p>\n",
       "</div>"
      ],
      "text/plain": [
       "     Pclass        Age  SibSp  Parch      Fare  Title  Sex_female  Sex_male  \\\n",
       "0         1   4.000000      0      2   81.8583      5         0.0       1.0   \n",
       "1         3  29.256353      0      0    7.8958      9         0.0       1.0   \n",
       "2         3   1.000000      1      1   11.1333      6         1.0       0.0   \n",
       "3         2  36.000000      1      2   27.7500      9         0.0       1.0   \n",
       "4         2  43.000000      1      1   26.2500      9         0.0       1.0   \n",
       "..      ...        ...    ...    ...       ...    ...         ...       ...   \n",
       "618       3  21.000000      0      0    7.6500      6         1.0       0.0   \n",
       "619       1  29.256353      0      0   31.0000      9         0.0       1.0   \n",
       "620       3  41.000000      2      0   14.1083      9         0.0       1.0   \n",
       "621       1  14.000000      1      2  120.0000      6         1.0       0.0   \n",
       "622       1  21.000000      0      1   77.2875      9         0.0       1.0   \n",
       "\n",
       "     Embarked_0    S\\nName: Embarked, dtype: object  Embarked_C  Embarked_Q  \\\n",
       "0                                               0.0         0.0         0.0   \n",
       "1                                               0.0         0.0         0.0   \n",
       "2                                               0.0         0.0         0.0   \n",
       "3                                               0.0         0.0         0.0   \n",
       "4                                               0.0         0.0         0.0   \n",
       "..                                              ...         ...         ...   \n",
       "618                                             0.0         0.0         0.0   \n",
       "619                                             0.0         0.0         0.0   \n",
       "620                                             0.0         0.0         0.0   \n",
       "621                                             0.0         0.0         0.0   \n",
       "622                                             0.0         0.0         0.0   \n",
       "\n",
       "     Embarked_S  \n",
       "0           1.0  \n",
       "1           1.0  \n",
       "2           1.0  \n",
       "3           1.0  \n",
       "4           1.0  \n",
       "..          ...  \n",
       "618         1.0  \n",
       "619         1.0  \n",
       "620         1.0  \n",
       "621         1.0  \n",
       "622         1.0  \n",
       "\n",
       "[623 rows x 12 columns]"
      ]
     },
     "execution_count": 35,
     "metadata": {},
     "output_type": "execute_result"
    }
   ],
   "source": [
    "train_dataset_encoded"
   ]
  },
  {
   "cell_type": "markdown",
   "metadata": {},
   "source": [
    "## Normalization"
   ]
  },
  {
   "cell_type": "markdown",
   "metadata": {},
   "source": [
    "Normalization will be implemented in the `Training.ipynb` file"
   ]
  },
  {
   "cell_type": "code",
   "execution_count": 36,
   "metadata": {},
   "outputs": [
    {
     "name": "stdout",
     "output_type": "stream",
     "text": [
      "(623, 12)\n",
      "(268, 12)\n",
      "(418, 12)\n",
      "data normalized\n"
     ]
    }
   ],
   "source": [
    "# initialized the scaler \n",
    "scaler = MinMaxScaler()\n",
    "\n",
    "# normalize train data\n",
    "train_data_scaled = scaler.fit_transform(train_dataset_encoded)\n",
    "val_data_scaled = scaler.transform(val_dataset_encoded)\n",
    "test_data_scaled = scaler.transform(test_dataset_encoded)\n",
    "\n",
    "print(train_data_scaled.shape)\n",
    "print(val_data_scaled.shape)\n",
    "print(test_data_scaled.shape)\n",
    "\n",
    "print('data normalized')"
   ]
  },
  {
   "cell_type": "code",
   "execution_count": 37,
   "metadata": {},
   "outputs": [
    {
     "name": "stdout",
     "output_type": "stream",
     "text": [
      "1.0\n",
      "0.0\n",
      "1.0\n",
      "0.0\n",
      "1.5\n",
      "-0.00314149283739633\n"
     ]
    }
   ],
   "source": [
    "print(np.max(train_data_scaled))\n",
    "print(np.min(train_data_scaled))\n",
    "\n",
    "print(np.max(val_data_scaled))\n",
    "print(np.min(val_data_scaled))\n",
    "\n",
    "print(np.max(test_data_scaled))\n",
    "print(np.min(test_data_scaled))"
   ]
  },
  {
   "cell_type": "markdown",
   "metadata": {},
   "source": [
    "## Build and train the models"
   ]
  },
  {
   "cell_type": "code",
   "execution_count": 38,
   "metadata": {},
   "outputs": [
    {
     "name": "stdout",
     "output_type": "stream",
     "text": [
      "models set\n"
     ]
    }
   ],
   "source": [
    "# logistic regression model\n",
    "logistic_regression_model = LogisticRegression()\n",
    "logistic_regression_model.fit(train_data_scaled, train_labels)\n",
    "\n",
    "# random forest model\n",
    "random_forest_model = RandomForestClassifier(n_estimators=100, random_state=42)\n",
    "random_forest_model.fit(train_data_scaled, train_labels)\n",
    "\n",
    "# support vector classifier model\n",
    "svm_model = SVC(kernel=\"linear\")\n",
    "svm_model.fit(train_data_scaled, train_labels)\n",
    "\n",
    "# naive bayes multinomial classifier\n",
    "nb_model = MultinomialNB()\n",
    "nb_model.fit(train_data_scaled, train_labels)\n",
    "\n",
    "# k-nearest neighbors classifier\n",
    "knn_model = KNeighborsClassifier(n_neighbors=5)\n",
    "knn_model.fit(train_data_scaled, train_labels)\n",
    "\n",
    "# Adaboost classifier\n",
    "adaboost_base_classifier = DecisionTreeClassifier(max_depth=1)\n",
    "adaboost_model = AdaBoostClassifier(adaboost_base_classifier, n_estimators=50, random_state=42)\n",
    "adaboost_model.fit(train_data_scaled, train_labels)\n",
    "\n",
    "print('models set')"
   ]
  },
  {
   "cell_type": "markdown",
   "metadata": {},
   "source": [
    "## Make predictions"
   ]
  },
  {
   "cell_type": "markdown",
   "metadata": {},
   "source": [
    "### Function to show the info about the predictions"
   ]
  },
  {
   "cell_type": "code",
   "execution_count": 39,
   "metadata": {},
   "outputs": [],
   "source": [
    "def model_metrics(train_pred):\n",
    "    accuracy = accuracy_score(val_labels, train_pred)\n",
    "    confusion = confusion_matrix(val_labels, train_pred)\n",
    "    report = classification_report(val_labels, train_pred)\n",
    "\n",
    "    print(\"Accuracy:\", accuracy)\n",
    "    print(\"Confusion Matrix:\\n\", confusion)\n",
    "    print(\"Classification Report:\\n\", report)\n",
    "    \n",
    "    return accuracy"
   ]
  },
  {
   "cell_type": "markdown",
   "metadata": {},
   "source": [
    "### Generate predictions"
   ]
  },
  {
   "cell_type": "code",
   "execution_count": 40,
   "metadata": {},
   "outputs": [
    {
     "name": "stdout",
     "output_type": "stream",
     "text": [
      "Accuracy: 0.7947761194029851\n",
      "Confusion Matrix:\n",
      " [[132  25]\n",
      " [ 30  81]]\n",
      "Classification Report:\n",
      "               precision    recall  f1-score   support\n",
      "\n",
      "           0       0.81      0.84      0.83       157\n",
      "           1       0.76      0.73      0.75       111\n",
      "\n",
      "    accuracy                           0.79       268\n",
      "   macro avg       0.79      0.79      0.79       268\n",
      "weighted avg       0.79      0.79      0.79       268\n",
      "\n",
      "train preds made for regression model\n",
      "Accuracy: 0.7798507462686567\n",
      "Confusion Matrix:\n",
      " [[124  33]\n",
      " [ 26  85]]\n",
      "Classification Report:\n",
      "               precision    recall  f1-score   support\n",
      "\n",
      "           0       0.83      0.79      0.81       157\n",
      "           1       0.72      0.77      0.74       111\n",
      "\n",
      "    accuracy                           0.78       268\n",
      "   macro avg       0.77      0.78      0.78       268\n",
      "weighted avg       0.78      0.78      0.78       268\n",
      "\n",
      "train preds made for random forest model\n",
      "Accuracy: 0.7910447761194029\n",
      "Confusion Matrix:\n",
      " [[134  23]\n",
      " [ 33  78]]\n",
      "Classification Report:\n",
      "               precision    recall  f1-score   support\n",
      "\n",
      "           0       0.80      0.85      0.83       157\n",
      "           1       0.77      0.70      0.74       111\n",
      "\n",
      "    accuracy                           0.79       268\n",
      "   macro avg       0.79      0.78      0.78       268\n",
      "weighted avg       0.79      0.79      0.79       268\n",
      "\n",
      "train preds made for svm model\n",
      "Accuracy: 0.7910447761194029\n",
      "Confusion Matrix:\n",
      " [[134  23]\n",
      " [ 33  78]]\n",
      "Classification Report:\n",
      "               precision    recall  f1-score   support\n",
      "\n",
      "           0       0.80      0.85      0.83       157\n",
      "           1       0.77      0.70      0.74       111\n",
      "\n",
      "    accuracy                           0.79       268\n",
      "   macro avg       0.79      0.78      0.78       268\n",
      "weighted avg       0.79      0.79      0.79       268\n",
      "\n",
      "train preds made for nb model\n",
      "Accuracy: 0.7649253731343284\n",
      "Confusion Matrix:\n",
      " [[131  26]\n",
      " [ 37  74]]\n",
      "Classification Report:\n",
      "               precision    recall  f1-score   support\n",
      "\n",
      "           0       0.78      0.83      0.81       157\n",
      "           1       0.74      0.67      0.70       111\n",
      "\n",
      "    accuracy                           0.76       268\n",
      "   macro avg       0.76      0.75      0.75       268\n",
      "weighted avg       0.76      0.76      0.76       268\n",
      "\n",
      "train preds for knn model\n",
      "Accuracy: 0.8059701492537313\n",
      "Confusion Matrix:\n",
      " [[134  23]\n",
      " [ 29  82]]\n",
      "Classification Report:\n",
      "               precision    recall  f1-score   support\n",
      "\n",
      "           0       0.82      0.85      0.84       157\n",
      "           1       0.78      0.74      0.76       111\n",
      "\n",
      "    accuracy                           0.81       268\n",
      "   macro avg       0.80      0.80      0.80       268\n",
      "weighted avg       0.81      0.81      0.81       268\n",
      "\n",
      "train preds for adaboost model\n"
     ]
    }
   ],
   "source": [
    "val_preds_regression_model = logistic_regression_model.predict(val_data_scaled)\n",
    "regression_model_accuracy = model_metrics(val_preds_regression_model)\n",
    "print('train preds made for regression model')\n",
    "\n",
    "val_preds_random_forest_model = random_forest_model.predict(val_data_scaled)\n",
    "random_forest_model_accuracy = model_metrics(val_preds_random_forest_model)\n",
    "print('train preds made for random forest model')\n",
    "\n",
    "val_preds_svm_model = svm_model.predict(val_data_scaled)\n",
    "svm_model_accuracy = model_metrics(val_preds_svm_model)\n",
    "print('train preds made for svm model')\n",
    "\n",
    "val_preds_nb_model = nb_model.predict(val_data_scaled)\n",
    "nb_model_accuracy = model_metrics(val_preds_nb_model)\n",
    "print('train preds made for nb model')\n",
    "\n",
    "val_preds_knn_model = knn_model.predict(val_data_scaled)\n",
    "knn_model_accuracy = model_metrics(val_preds_knn_model)\n",
    "print('train preds for knn model')\n",
    "\n",
    "val_preds_adaboost_model = adaboost_model.predict(val_data_scaled)\n",
    "adaboost_model_accuracy = model_metrics(val_preds_adaboost_model)\n",
    "print('train preds for adaboost model')"
   ]
  },
  {
   "cell_type": "markdown",
   "metadata": {},
   "source": [
    "## Submissions"
   ]
  },
  {
   "cell_type": "code",
   "execution_count": 41,
   "metadata": {},
   "outputs": [
    {
     "name": "stdout",
     "output_type": "stream",
     "text": [
      "train preds made\n",
      "submission set\n"
     ]
    }
   ],
   "source": [
    "# Submission prediction\n",
    "preds = nb_model.predict(test_data_scaled)\n",
    "print('train preds made')\n",
    "\n",
    "# generate data frame for submision\n",
    "submission = pd.DataFrame({\n",
    "    \"PassengerId\": passengerId,\n",
    "    \"Survived\": preds\n",
    "})\n",
    "\n",
    "print('submission set')"
   ]
  },
  {
   "cell_type": "code",
   "execution_count": 42,
   "metadata": {},
   "outputs": [
    {
     "name": "stdout",
     "output_type": "stream",
     "text": [
      "submission file generated\n"
     ]
    }
   ],
   "source": [
    "# write the file to submission\n",
    "submission.to_csv('./submissions/titanic_dissaster_submission_nb.csv', index=False, header=True)\n",
    "print('submission file generated')"
   ]
  },
  {
   "cell_type": "markdown",
   "metadata": {},
   "source": [
    "## Data Export"
   ]
  },
  {
   "cell_type": "markdown",
   "metadata": {},
   "source": [
    "Export train data and test data for training and make predictions in the `Training.ipynb` file"
   ]
  },
  {
   "cell_type": "markdown",
   "metadata": {},
   "source": [
    "#### Check everything is as expected"
   ]
  },
  {
   "cell_type": "code",
   "execution_count": 43,
   "metadata": {},
   "outputs": [],
   "source": [
    "# train_labels_df = train_labels.to_frame(name='Survived')\n",
    "# train_dataset_encoded = pd.concat([train_dataset_encoded, train_labels_df], axis=1)\n",
    "# train_dataset_encoded"
   ]
  },
  {
   "cell_type": "code",
   "execution_count": 44,
   "metadata": {},
   "outputs": [],
   "source": [
    "# test_dataset_encoded"
   ]
  },
  {
   "cell_type": "markdown",
   "metadata": {},
   "source": [
    "### Exports"
   ]
  },
  {
   "cell_type": "code",
   "execution_count": 45,
   "metadata": {},
   "outputs": [],
   "source": [
    "# # train_processed.csv\n",
    "# train_dataset_encoded.to_csv('train_processed.csv', index=False, header=True)\n",
    "\n",
    "# # test_processed.csv\n",
    "# test_dataset_encoded.to_csv('test_processed.csv', index=False, header=True)"
   ]
  }
 ],
 "metadata": {
  "kernelspec": {
   "display_name": "titanicCompetition",
   "language": "python",
   "name": "python3"
  },
  "language_info": {
   "codemirror_mode": {
    "name": "ipython",
    "version": 3
   },
   "file_extension": ".py",
   "mimetype": "text/x-python",
   "name": "python",
   "nbconvert_exporter": "python",
   "pygments_lexer": "ipython3",
   "version": "3.8.18"
  }
 },
 "nbformat": 4,
 "nbformat_minor": 2
}
